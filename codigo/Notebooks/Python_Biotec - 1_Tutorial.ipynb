{
 "metadata": {
  "name": "",
  "signature": "sha256:73d2350b8649e8d2597535eace8be7b80926b46e48caa210154b2a1fe433b6ca"
 },
 "nbformat": 3,
 "nbformat_minor": 0,
 "worksheets": [
  {
   "cells": [
    {
     "cell_type": "markdown",
     "metadata": {},
     "source": [
      "![LogoACM](python_header.png)\n"
     ]
    },
    {
     "cell_type": "markdown",
     "metadata": {},
     "source": [
      "##Tipos de Datos"
     ]
    },
    {
     "cell_type": "code",
     "collapsed": false,
     "input": [
      "entero = 3\n",
      "real = 4.5\n",
      "cadena = \"Monty\"\n",
      "complejo = 3 + 4j\n",
      "cadena_num = \"4\"\n",
      "\n",
      "#Esto es ilegal\n",
      "#cadena_num + real\n",
      "\n",
      "#Sin embargo, esto funciona:\n",
      "print entero + int(cadena_num)\n",
      "\n",
      "\n",
      "#Esto tambi\u00e9n\n",
      "print str(entero) + cadena_num\n",
      "\n",
      "#Para n\u00fameros Python es m\u00e1s flexible\n",
      "print real + complejo\n"
     ],
     "language": "python",
     "metadata": {},
     "outputs": [
      {
       "output_type": "stream",
       "stream": "stdout",
       "text": [
        "7\n",
        "34\n",
        "(7.5+4j)\n"
       ]
      }
     ],
     "prompt_number": 52
    },
    {
     "cell_type": "markdown",
     "metadata": {},
     "source": [
      "##Cadenas"
     ]
    },
    {
     "cell_type": "code",
     "collapsed": false,
     "input": [
      "cadena = \"Cadena\"\n",
      "\n",
      "cadena_mayusculas = cadena.upper()\n",
      "print cadena\n",
      "\n",
      "cadena = cadena.replace(\"a\", \"b\")\n",
      "print cadena\n",
      "\n",
      "c = cadena.count('b')\n",
      "print \"Hay\", c, \"'b'\"\n",
      "\n",
      "pos = cadena.find(\"e\")\n",
      "print \"La primera 'e' est\u00e1 en la posici\u00f3n \", pos"
     ],
     "language": "python",
     "metadata": {},
     "outputs": []
    },
    {
     "cell_type": "markdown",
     "metadata": {},
     "source": [
      "##Listas"
     ]
    },
    {
     "cell_type": "code",
     "collapsed": false,
     "input": [
      "lista = [4,\"8\",\"15\",16,23,42, \"isla\", True]\n",
      "\n",
      "print lista[4:]\n",
      "print lista[:-1]\n",
      "print lista[0:6:2]\n",
      "\n",
      "lista_reverse = lista[::-1]\n",
      "print lista_reverse\n",
      "\n",
      "lista.sort()\n",
      "print lista\n",
      "\n",
      "\n",
      "print \"Hay \", lista.count(\"isla\"), \" isla(s)\"\n",
      "\n",
      "print sum(lista[:3])\n",
      "\n",
      "lista.remove(\"isla\")\n",
      "print lista\n",
      "\n",
      "\n",
      "#morir personajes GOT \u00bf?\u00bf?\u00bf"
     ],
     "language": "python",
     "metadata": {},
     "outputs": [
      {
       "output_type": "stream",
       "stream": "stdout",
       "text": [
        "[23, 42, 'isla', True]\n",
        "[4, '8', '15', 16, 23, 42, 'isla']\n",
        "[4, '15', 23]\n",
        "[True, 'isla', 42, 23, 16, '15', '8', 4]\n",
        "[True, 4, 16, 23, 42, '15', '8', 'isla']\n",
        "Hay  1  isla(s)\n",
        "21\n",
        "[True, 4, 16, 23, 42, '15', '8']\n"
       ]
      }
     ],
     "prompt_number": 1
    },
    {
     "cell_type": "markdown",
     "metadata": {},
     "source": [
      "##Diccionarios"
     ]
    },
    {
     "cell_type": "code",
     "collapsed": false,
     "input": [
      "nombre_apellido = {'Hugo':\"Reyes\",'Jack':\"Shephard\",'Kate':\"Austen\"}\n",
      "\n",
      "print(\"Introduce el nombre del personaje\")\n",
      "nombre=raw_input()\n",
      "print nombre, \"se llama \", nombre_apellido[nombre]\n"
     ],
     "language": "python",
     "metadata": {},
     "outputs": [
      {
       "output_type": "stream",
       "stream": "stdout",
       "text": [
        "Introduce el nombre del personaje\n"
       ]
      },
      {
       "name": "stdout",
       "output_type": "stream",
       "stream": "stdout",
       "text": [
        "Jack\n"
       ]
      },
      {
       "output_type": "stream",
       "stream": "stdout",
       "text": [
        "Jack se llama  Shephard\n"
       ]
      }
     ],
     "prompt_number": 72
    },
    {
     "cell_type": "markdown",
     "metadata": {},
     "source": [
      "##Condicionales"
     ]
    },
    {
     "cell_type": "code",
     "collapsed": false,
     "input": [
      "variable = 4\n",
      "\n",
      "valor = raw_input(\"Introduce un valor\")\n",
      "valor = int(valor)\n",
      "\n",
      "if valor < variable:\n",
      "  print \"El n\u00famero \", valor, \"es menor que \"+str(variable) \n",
      "\n",
      "elif valor > variable:\n",
      "  print \"El n\u00famero \", valor, \"es mayor que \"+str(variable) \n",
      "\n",
      "else:\n",
      "  print \"El n\u00famero \", valor, \"es igual a \"+str(variable) \n"
     ],
     "language": "python",
     "metadata": {},
     "outputs": [
      {
       "name": "stdout",
       "output_type": "stream",
       "stream": "stdout",
       "text": [
        "Introduce un valor234\n"
       ]
      },
      {
       "output_type": "stream",
       "stream": "stdout",
       "text": [
        "El n\u00famero  234 es mayor que 4\n"
       ]
      }
     ],
     "prompt_number": 77
    },
    {
     "cell_type": "markdown",
     "metadata": {},
     "source": [
      "##Bucles"
     ]
    },
    {
     "cell_type": "code",
     "collapsed": false,
     "input": [
      "numero=0\n",
      "\n",
      "while numero > 5:\n",
      "  numero = numero + 1\n",
      "\n",
      "print 'numero es', numero    \n",
      "    \n",
      "elementos = [\"Association\", \"for\", \"computing\", \"machinery\"]\n",
      "\n",
      "for elemento in elementos:\n",
      "  print elemento\n",
      "\n",
      "for i in [0,1,2,3,4,5,6,7,8,9]:\n",
      "  print i\n",
      "\n",
      "for i in range(10):\n",
      "  print i\n",
      "  i=i+1\n"
     ],
     "language": "python",
     "metadata": {},
     "outputs": [
      {
       "output_type": "stream",
       "stream": "stdout",
       "text": [
        "numero es 0\n",
        "Association\n",
        "for\n",
        "computing\n",
        "machinery\n",
        "0\n",
        "1\n",
        "2\n",
        "3\n",
        "4\n",
        "5\n",
        "6\n",
        "7\n",
        "8\n",
        "9\n",
        "0\n",
        "1\n",
        "2\n",
        "3\n",
        "4\n",
        "5\n",
        "6\n",
        "7\n",
        "8\n",
        "9\n"
       ]
      }
     ],
     "prompt_number": 78
    },
    {
     "cell_type": "code",
     "collapsed": false,
     "input": [
      "numero_total = 0\n",
      "numero = 0\n",
      "\n",
      "while(numero >= 0):\n",
      "    \n",
      "  numero = int(raw_input(\"Introduce un n\u00famero: \"))\n",
      "    \n",
      "  if numero > 100:\n",
      "    print \"El n\u00famero es muy grande. Prueba de nuevo\"\n",
      "    continue\n",
      "    \n",
      "  elif numero > 0:\n",
      "    numero_total += numero\n",
      "    \n",
      "  else:\n",
      "    print \"Saliendo... el numero total es: \", numero_total\n",
      "  \n",
      "\n"
     ],
     "language": "python",
     "metadata": {},
     "outputs": [
      {
       "name": "stdout",
       "output_type": "stream",
       "stream": "stdout",
       "text": [
        "Introduce un n\u00famero: -5\n"
       ]
      },
      {
       "output_type": "stream",
       "stream": "stdout",
       "text": [
        "Saliendo... el numero total es:  0\n"
       ]
      }
     ],
     "prompt_number": 79
    },
    {
     "cell_type": "code",
     "collapsed": false,
     "input": [
      "multiplos_siete = []\n",
      "\n",
      "for i in range(1,200):\n",
      "    if(i % 7 == 0):\n",
      "        multiplos_siete.append(i)\n",
      "\n",
      "  \n",
      "\n",
      "print(multiplos_siete)  \n"
     ],
     "language": "python",
     "metadata": {},
     "outputs": [
      {
       "output_type": "stream",
       "stream": "stdout",
       "text": [
        "[7, 14, 21, 28, 35, 42, 49, 56, 63, 70, 77, 84, 91, 98, 105, 112, 119, 126, 133, 140, 147, 154, 161, 168, 175, 182, 189, 196]\n"
       ]
      }
     ],
     "prompt_number": 80
    },
    {
     "cell_type": "markdown",
     "metadata": {},
     "source": [
      "##Funciones"
     ]
    },
    {
     "cell_type": "code",
     "collapsed": false,
     "input": [
      "i = 7\n",
      "def fibonacci(i):\n",
      "  if i < 2:\n",
      "    return i \n",
      "  return fibonacci(i-1) + fibonacci(i-2) \n",
      "\n",
      "for i in range(6):\n",
      "    print fibonacci(i)\n"
     ],
     "language": "python",
     "metadata": {},
     "outputs": [
      {
       "output_type": "stream",
       "stream": "stdout",
       "text": [
        "0\n",
        "1\n",
        "1\n",
        "2\n",
        "3\n",
        "5\n"
       ]
      }
     ],
     "prompt_number": 85
    }
   ],
   "metadata": {}
  }
 ]
}