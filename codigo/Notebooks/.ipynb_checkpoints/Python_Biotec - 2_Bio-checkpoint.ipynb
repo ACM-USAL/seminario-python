{
 "metadata": {
  "name": "",
  "signature": "sha256:a88d1664e02c94f017984c2670c50032102d554f8e70cd824ec1b9d845c46675"
 },
 "nbformat": 3,
 "nbformat_minor": 0,
 "worksheets": [
  {
   "cells": [
    {
     "cell_type": "markdown",
     "metadata": {},
     "source": [
      "![LogoACM](python_header_bio.png)\n"
     ]
    },
    {
     "cell_type": "markdown",
     "metadata": {},
     "source": [
      "##Cadena Inversa"
     ]
    },
    {
     "cell_type": "code",
     "collapsed": false,
     "input": [
      "#Funci\u00f3n complementaria\n",
      "def inversa(dna):\n",
      "    for nuc in dna:\n",
      "        if nuc not in ['A', 'T', 'C', 'G']:\n",
      "            print 'No es DNA. Revise su cadena'\n",
      "            return \"\" \n",
      "    \n",
      "    inversa = dna[::-1]\n",
      "    \n",
      "    return inversa      \n",
      "\n",
      "dna = raw_input('Escriba una cadena de DNA: ')\n",
      "dna = dna.upper()\n",
      "\n",
      "dna_inversa = inversa(dna)\n",
      "\n",
      "if inversa:\n",
      "    print 'La cadena inversa es: ' + dna_inversa"
     ],
     "language": "python",
     "metadata": {},
     "outputs": [
      {
       "name": "stdout",
       "output_type": "stream",
       "stream": "stdout",
       "text": [
        "Escriba una cadena de DNA: TAGAGTAC\n"
       ]
      },
      {
       "output_type": "stream",
       "stream": "stdout",
       "text": [
        "La cadena inversa es: CATGAGAT\n"
       ]
      }
     ],
     "prompt_number": 1
    },
    {
     "cell_type": "markdown",
     "metadata": {},
     "source": [
      "##Cadena Complementaria"
     ]
    },
    {
     "cell_type": "code",
     "collapsed": false,
     "input": [
      "#Funci\u00f3n complementaria\n",
      "def complementaria(dna):\n",
      "    \n",
      "    comp_dic = {'A':'T','T':'A','C':'G','G':'C'}    \n",
      "    \n",
      "    comp = \"\"\n",
      "    \n",
      "    for nuc in dna:\n",
      "        if nuc not in ['A', 'T', 'C', 'G']:\n",
      "            print 'No es DNA. Revise su cadena'\n",
      "            return \"\"\n",
      "        else: comp += comp_dic[nuc]\n",
      "           \n",
      "    return comp\n",
      "\n",
      "\n",
      "\n",
      "dna = raw_input('Escriba una cadena de DNA: ')\n",
      "dna = dna.upper()\n",
      "\n",
      "dna_complementaria = complementaria(dna)\n",
      "\n",
      "if dna_complementaria:\n",
      "    print 'La cadena complementaria es: ' + dna_complementaria"
     ],
     "language": "python",
     "metadata": {},
     "outputs": [
      {
       "name": "stdout",
       "output_type": "stream",
       "stream": "stdout",
       "text": [
        "Escriba una cadena de DNA: CCTATCGA\n"
       ]
      },
      {
       "output_type": "stream",
       "stream": "stdout",
       "text": [
        "La cadena complementaria es: GGATAGCT\n"
       ]
      }
     ],
     "prompt_number": 2
    },
    {
     "cell_type": "markdown",
     "metadata": {},
     "source": [
      "##Inversa Complementaria"
     ]
    },
    {
     "cell_type": "code",
     "collapsed": false,
     "input": [
      "dna = raw_input('Escriba una cadena de DNA: ')\n",
      "dna = dna.upper()\n",
      "\n",
      "dna_inv_comp = inversa(complementaria(dna))\n",
      "\n",
      "if dna_inv_comp:\n",
      "    print 'La cadena inversa complementaria es: ' + dna_inv_comp\n"
     ],
     "language": "python",
     "metadata": {},
     "outputs": [
      {
       "name": "stdout",
       "output_type": "stream",
       "stream": "stdout",
       "text": [
        "Escriba una cadena de DNA: gatatttac\n"
       ]
      },
      {
       "output_type": "stream",
       "stream": "stdout",
       "text": [
        "La cadena inversa complementaria es: GTAAATATC\n"
       ]
      }
     ],
     "prompt_number": 3
    },
    {
     "cell_type": "markdown",
     "metadata": {},
     "source": [
      "##DNA to RNA"
     ]
    },
    {
     "cell_type": "code",
     "collapsed": false,
     "input": [
      "def dna2rna(dna):\n",
      "    dna=dna.upper()\n",
      "    rna=dna.replace('T', 'U')\n",
      "    return rna \n",
      "    \n",
      "    \n",
      "    \n",
      "dna=raw_input(\"\u00bfC\u00f3mo es tu DNA?  \")\n",
      "rna = dna2rna(dna)\n",
      "print 'Tu RNA es: ' + rna\n"
     ],
     "language": "python",
     "metadata": {},
     "outputs": [
      {
       "name": "stdout",
       "output_type": "stream",
       "stream": "stdout",
       "text": [
        "\u00bfC\u00f3mo es tu DNA?  GATTACA\n"
       ]
      },
      {
       "output_type": "stream",
       "stream": "stdout",
       "text": [
        "Tu RNA es: GAUUACA\n"
       ]
      }
     ],
     "prompt_number": 4
    },
    {
     "cell_type": "markdown",
     "metadata": {},
     "source": [
      "##Cuenta AA"
     ]
    },
    {
     "cell_type": "code",
     "collapsed": false,
     "input": [
      "def fasta2sec(filename):\n",
      "    file = open (filename)\n",
      "    if not file:\n",
      "        print \"El archivo no existe\"\n",
      "        return \"\"\n",
      "    secuencia = ''\n",
      "    #Iniciamos el bucle de lectura\n",
      "    for linea in file:\n",
      "        #Asociamos a la variable \"linea\" cada l\u00ednea del archivo, pero sin el salto de l\u00ednea\n",
      "        linea = linea.strip('\\n')\n",
      "        \n",
      "        #Comprobamos que la l\u00ednea no est\u00e1 vac\u00eda, ni empieza por '>' (1\u00aa linea de info)\n",
      "        if linea != '' and linea[0] != '>' :\n",
      "            #A\u00f1adimos a la variable \"secuencia\" cada iteraci\u00f3n de linea\n",
      "          secuencia = secuencia + linea\n",
      "        \n",
      "        \n",
      "    return secuencia\n",
      "\n",
      "filename = raw_input('Escribe la ruta de tu fichero: ')\n",
      "\n",
      "secuencia = fasta2sec(filename)\n",
      "\n",
      "print \"Tu prote\u00edna tiene \" + str(len(secuencia)) + \" amino\u00e1cidos\""
     ],
     "language": "python",
     "metadata": {},
     "outputs": [
      {
       "name": "stdout",
       "output_type": "stream",
       "stream": "stdout",
       "text": [
        "Escribe la ruta de tu fichero: dna.txt\n"
       ]
      },
      {
       "output_type": "stream",
       "stream": "stdout",
       "text": [
        "Tu prote\u00edna tiene 290 amino\u00e1cidos\n"
       ]
      }
     ],
     "prompt_number": 9
    },
    {
     "cell_type": "markdown",
     "metadata": {},
     "source": [
      "##Tipos AA"
     ]
    },
    {
     "cell_type": "code",
     "collapsed": false,
     "input": [
      "def contar_tipos(secuencia):\n",
      "    \n",
      "    hydrophilic = ['C', 'F', 'I', 'L', 'M', 'V', 'W']\n",
      "    hydrophobic = ['D', 'E', 'G', 'K', 'N', 'P', 'Q', 'R', 'S', 'T']\n",
      "    neutral = ['A', 'H', 'Y']\n",
      "    \n",
      "    contadores = {'hphi': 0, 'hpho': 0, 'neu'  : 0}\n",
      "\n",
      "    #Iteramos la secuencia por elemento\n",
      "    for aa in secuencia:\n",
      "\n",
      "        #Comprobamos d\u00f3nde est\u00e1 cada aa, y sumamos 1 al contador correspondiente a su tipo\n",
      "        if aa in hydrophilic:\n",
      "            contadores['hphi'] +=1\n",
      "        elif aa in hydrophobic:\n",
      "            contadores['hpho'] +=1\n",
      "        elif aa in neutral:\n",
      "            contadores['neu'] +=1\n",
      "        #A\u00f1adimos \"else\" por si acaso\n",
      "        else: \n",
      "            print 'Alg\u00fan dato no es AA. Revisa el fichero'\n",
      "            #Preguntamos si el usuario quiere continuar\n",
      "            pregunta = raw_input('\u00bfQuieres continuar de todos modos? [s/n]')\n",
      "            #Si la respuesta es s\u00ed...\n",
      "            if pregunta == 'y' or pregunta == 'Y':\n",
      "                return contadores \n",
      "            #Si la respuesta es no...\n",
      "            elif pregunta =='n' or pregunta == 'N':\n",
      "                return contadores\n",
      "            #Si la respuesta es otra...\n",
      "            return contadores\n",
      "        \n",
      "    return contadores\n",
      "        \n",
      "contadores = contar_tipos(secuencia)        \n",
      "                \n",
      "#Imprimimos la respuesta con los datos\n",
      "print 'La cantidad de aa de cada tipo es: '\n",
      "print '%.2f %% de hidrof\u00edlicos' %(float(contadores['hphi'])/len(secuencia)*100)\n",
      "print '%.2f %% de hidrof\u00f3bicos' %(float(contadores['hpho'])/len(secuencia)*100)\n",
      "print '%.2f %% de neutros' %(float(contadores['neu'])/len(secuencia)*100)"
     ],
     "language": "python",
     "metadata": {},
     "outputs": [
      {
       "output_type": "stream",
       "stream": "stdout",
       "text": [
        "La cantidad de aa de cada tipo es: \n",
        "26.90 % de hidrof\u00edlicos\n",
        "45.52 % de hidrof\u00f3bicos\n",
        "27.59 % de neutros\n"
       ]
      }
     ],
     "prompt_number": 6
    },
    {
     "cell_type": "markdown",
     "metadata": {},
     "source": [
      "##Visualizar Tipos de AA"
     ]
    },
    {
     "cell_type": "code",
     "collapsed": false,
     "input": [
      "%matplotlib inline\n",
      "import numpy as np\n",
      "import matplotlib.pyplot as plt\n",
      "\n",
      "index = range(len(contadores))\n",
      "\n",
      "barlist = plt.bar(index, contadores.values(), align='center')\n",
      "\n",
      "# Un poco de color\n",
      "barlist[0].set_color('#999999')\n",
      "barlist[1].set_color('#ff3333')\n",
      "barlist[2].set_color('#3333ff')\n",
      "\n",
      "plt.xticks(index, contadores.keys())\n",
      "plt.show()\n"
     ],
     "language": "python",
     "metadata": {},
     "outputs": [
      {
       "metadata": {},
       "output_type": "display_data",
       "png": "[encoded data removed]",
       "text": [
        "<matplotlib.figure.Figure at 0x7f42800a7a50>"
       ]
      }
     ],
     "prompt_number": 10
    },
    {
     "cell_type": "markdown",
     "metadata": {},
     "source": [
      "##Comparar DNA"
     ]
    },
    {
     "cell_type": "code",
     "collapsed": false,
     "input": [
      "def identidad(sec1, sec2):\n",
      "    count = 0\n",
      "    dif = []\n",
      "    for i in range(len(sec1)):\n",
      "        if sec1[i] == sec2[i]:\n",
      "            count += 1\n",
      "            dif.append(1)\n",
      "        else:\n",
      "            dif.append(0)\n",
      "            \n",
      "    # Devolvemos % de similitud y lista de diferencias)\n",
      "    return (count*100./len(sec1), dif)\n",
      "    \n",
      "pan = fasta2sec('pan.fasta')\n",
      "sapiens = fasta2sec('sapiens.fasta')\n",
      "\n",
      "pan = pan[216-1:659]\n",
      "sapiens = sapiens[196-1:639]\n",
      "\n",
      "print pan[0:3]\n",
      "print sapiens[0:3]\n",
      "    \n",
      "diffs =  identidad(pan,sapiens)\n",
      "\n",
      "print 'Porcentaje de similitud %.2f %%' % diffs[0]\n"
     ],
     "language": "python",
     "metadata": {},
     "outputs": [
      {
       "output_type": "stream",
       "stream": "stdout",
       "text": [
        "ATG\n",
        "ATG\n",
        "Porcentaje de similitud 99.32 %\n"
       ]
      }
     ],
     "prompt_number": 102
    },
    {
     "cell_type": "markdown",
     "metadata": {},
     "source": [
      "##Visualizar diferencias de DNA"
     ]
    },
    {
     "cell_type": "code",
     "collapsed": false,
     "input": [
      "from numpy import array\n",
      "\n",
      "difs_array = array( [diffs[1]] )\n",
      "\n",
      "plt.imshow(difs_array, aspect = 50)\n",
      "\n",
      "ax = plt.gca()\n",
      "ax.yaxis.set_visible(False)"
     ],
     "language": "python",
     "metadata": {},
     "outputs": [
      {
       "metadata": {},
       "output_type": "display_data",
       "png": "[encoded data removed]",
       "text": [
        "<matplotlib.figure.Figure at 0x7f425b98b810>"
       ]
      }
     ],
     "prompt_number": 108
    },
    {
     "cell_type": "heading",
     "level": 3,
     "metadata": {},
     "source": [
      "##Poner Titulo"
     ]
    },
    {
     "cell_type": "markdown",
     "metadata": {},
     "source": [
      "###Definiciones\n"
     ]
    },
    {
     "cell_type": "code",
     "collapsed": false,
     "input": [
      "# Codigo genetico\n",
      "gencode = {\n",
      "  'ATA':'I', 'ATC':'I', 'ATT':'I', 'ATG':'M',\n",
      "  'ACA':'T', 'ACC':'T', 'ACG':'T', 'ACT':'T',\n",
      "  'AAC':'N', 'AAT':'N', 'AAA':'K', 'AAG':'K',\n",
      "  'AGC':'S', 'AGT':'S', 'AGA':'R', 'AGG':'R',\n",
      "  'CTA':'L', 'CTC':'L', 'CTG':'L', 'CTT':'L',\n",
      "  'CCA':'P', 'CCC':'P', 'CCG':'P', 'CCT':'P',\n",
      "  'CAC':'H', 'CAT':'H', 'CAA':'Q', 'CAG':'Q',\n",
      "  'CGA':'R', 'CGC':'R', 'CGG':'R', 'CGT':'R',\n",
      "  'GTA':'V', 'GTC':'V', 'GTG':'V', 'GTT':'V',\n",
      "  'GCA':'A', 'GCC':'A', 'GCG':'A', 'GCT':'A',\n",
      "  'GAC':'D', 'GAT':'D', 'GAA':'E', 'GAG':'E',\n",
      "  'GGA':'G', 'GGC':'G', 'GGG':'G', 'GGT':'G',\n",
      "  'TCA':'S', 'TCC':'S', 'TCG':'S', 'TCT':'S',\n",
      "  'TTC':'F', 'TTT':'F', 'TTA':'L', 'TTG':'L',\n",
      "  'TAC':'Y', 'TAT':'Y', 'TAA':'_', 'TAG':'_',\n",
      "  'TGC':'C', 'TGT':'C', 'TGA':'_', 'TGG':'W'}\n",
      "\n",
      "\n",
      "# Lista de aminoacidos\n",
      "aminoacidos = ['A', 'C', 'D', 'E', 'F', 'G', 'H', \n",
      "               'I', 'K', 'L', 'M', 'N', 'P', 'Q',  \n",
      "               'R', 'S', 'T', 'V', 'W', 'Y', '_']\n",
      "               \n",
      "# Diccionario que para cada aminoacido\n",
      "# da como valor la lista de codones que lo codifican\n",
      "# separados por el caracter \":\"\n",
      "aa2codon={'A':'GCA:GCC:GCG:GCT', 'C':'TGT:TGC', 'D':'GAT:GAC', \n",
      "          'E':'GAG:GAA', 'F':'TTT:TTC', 'G':'GGT:GGG:GGA:GGC' , \n",
      "          'H':'CAT:CAC', 'I':'ATC:ATA:ATT', 'K':'AAG:AAA', \n",
      "          'L':'CTC:CTG:CTA:CTT:TTA:TTG', 'M':'ATG', 'N':'AAC:AAT', \n",
      "          'P':'CCT:CCG:CCA:CCC', 'Q':'CAA:CAG', \n",
      "          'R':'AGG:AGA:CGA:CGC:CGG:CGT', \n",
      "          'S':'AGC:AGT:TCG:TCA:TCC:TCT', \n",
      "          'T':'ACC:ACA:ACG:ACT', 'V':'GTA:GTC:GTG:GTT',\n",
      "          'W':'TGG', 'Y':'TAT:TAC', '_':'TAG:TAA:TGA'}\n",
      "          "
     ],
     "language": "python",
     "metadata": {},
     "outputs": [],
     "prompt_number": 111
    },
    {
     "cell_type": "code",
     "collapsed": true,
     "input": [
      "#Abrimos el archivo fasta\n",
      "file = open('SP.fasta')\n",
      "\n",
      "secuencia = fasta2sec('SP.fasta')\n",
      "\n",
      "\n",
      "#Archivo de exones\n",
      "file = open('CDScoords.txt')\n",
      "\n",
      "#Alternativa para customizar el programa. Esto lee el nombre del primer gen en\n",
      "#vez de que se lo demos en el c\u00f3digo\n",
      "'''for linea in file:\n",
      "    pos = linea.split()\n",
      "    a = pos[0]\n",
      "    break'''\n",
      "\n",
      "a = 'SPAC212.06c'\n",
      "\n",
      "nueva_secuencia = ''\n",
      "for linea in file:\n",
      "    pos = linea.split()\n",
      "    if pos[0] == a:\n",
      "        nueva_secuencia += secuencia[int(pos[1])-1:int(pos[2])]\n",
      "    else:\n",
      "        print 'Para el gen %s: ' %a #Y ahora la funci\u00f3n que hace todo\n",
      "        codon_counter={'A':[0,0,0,0], 'C':[0,0], 'D':[0,0], \n",
      "          'E':[0,0], 'F':[0,0], 'G':[0,0,0,0] , \n",
      "          'H':[0,0], 'I':[0,0,0], 'K':[0,0], \n",
      "          'L':[0,0,0,0,0,0], 'M':[0], 'N':[0,0], \n",
      "          'P':[0,0,0,0], 'Q':[0,0], \n",
      "          'R':[0,0,0,0,0,0], \n",
      "          'S':[0,0,0,0,0,0], \n",
      "          'T':[0,0,0,0], 'V':[0,0,0,0],\n",
      "          'W':[0], 'Y':[0,0], '_':[0,0,0]}\n",
      "        #print nueva_secuencia\n",
      "        for i in range(0,len(nueva_secuencia),3) :\n",
      "            codon = nueva_secuencia[i:i+3]\n",
      "            aa = gencode[codon]\n",
      "            posibles_codones = aa2codon[aa].split(':')\n",
      "            #print posibles_codones\n",
      "            for x in range(0,len(posibles_codones)):\n",
      "                #print aa, codon, x\n",
      "                if codon == posibles_codones[x]:\n",
      "                    codon_counter[aa][x] += 1\n",
      "                    break\n",
      "        #print codon_counter\n",
      "        for y in aminoacidos:\n",
      "            print 'Amino\u00e1cido: %s' %y\n",
      "            for z in range(0,len(aa2codon[y].split(':'))):\n",
      "                total = 0\n",
      "                for i in codon_counter[y]:\n",
      "                    total += i\n",
      "                #print total\n",
      "                if total == 0:\n",
      "                    print '  %s %.2f%%' %(aa2codon[y].split(':')[z],(codon_counter[y][z]))\n",
      "                else: print '  %s %.2f%%' %(aa2codon[y].split(':')[z],(codon_counter[y][z]*100./total))\n",
      "                #print '  %s %s' %(codon_actual,porcentaje)\n",
      "        nueva_secuencia = secuencia[int(pos[1])-1:int(pos[2])]\n",
      "        a = pos[0]\n",
      "    \n",
      "\n",
      "    \n",
      "    \n",
      "    "
     ],
     "language": "python",
     "metadata": {},
     "outputs": [
      {
       "ename": "NameError",
       "evalue": "name 'fasta2sec' is not defined",
       "output_type": "pyerr",
       "traceback": [
        "\u001b[0;31m---------------------------------------------------------------------------\u001b[0m\n\u001b[0;31mNameError\u001b[0m                                 Traceback (most recent call last)",
        "\u001b[0;32m<ipython-input-1-704233b63f26>\u001b[0m in \u001b[0;36m<module>\u001b[0;34m()\u001b[0m\n\u001b[1;32m      2\u001b[0m \u001b[0mfile\u001b[0m \u001b[0;34m=\u001b[0m \u001b[0mopen\u001b[0m\u001b[0;34m(\u001b[0m\u001b[0;34m'SP.fasta'\u001b[0m\u001b[0;34m)\u001b[0m\u001b[0;34m\u001b[0m\u001b[0m\n\u001b[1;32m      3\u001b[0m \u001b[0;34m\u001b[0m\u001b[0m\n\u001b[0;32m----> 4\u001b[0;31m \u001b[0msecuencia\u001b[0m \u001b[0;34m=\u001b[0m \u001b[0mfasta2sec\u001b[0m\u001b[0;34m(\u001b[0m\u001b[0;34m'SP.fasta'\u001b[0m\u001b[0;34m)\u001b[0m\u001b[0;34m\u001b[0m\u001b[0m\n\u001b[0m\u001b[1;32m      5\u001b[0m \u001b[0;34m\u001b[0m\u001b[0m\n\u001b[1;32m      6\u001b[0m \u001b[0;34m\u001b[0m\u001b[0m\n",
        "\u001b[0;31mNameError\u001b[0m: name 'fasta2sec' is not defined"
       ]
      }
     ],
     "prompt_number": 1
    },
    {
     "cell_type": "markdown",
     "metadata": {},
     "source": [
      "##Alineamiento de Prote\u00ednas"
     ]
    },
    {
     "cell_type": "code",
     "collapsed": false,
     "input": [
      "import nwalign as nw\n",
      "\n",
      "D = fasta2sec('Q9V429.fasta')\n",
      "H = fasta2sec('P10599.fasta')\n",
      "\n",
      "acounter = 0\n",
      "bcounter = 0\n",
      "\n",
      "a, b = nw.global_align(D, H, matrix='BLOSUM62.txt')\n",
      "\n",
      "for aa in a:\n",
      "    if aa != '-':\n",
      "        acounter += 1 \n",
      "        \n",
      "for aa in b:\n",
      "    if aa != '-':\n",
      "        bcounter += 1 \n",
      "        \n",
      "print ((acounter*100./len(a))+(bcounter*100./len(b))) / 2\n",
      "\n"
     ],
     "language": "python",
     "metadata": {},
     "outputs": [
      {
       "output_type": "stream",
       "stream": "stdout",
       "text": [
        "84.2307692308\n"
       ]
      }
     ],
     "prompt_number": 14
    },
    {
     "cell_type": "code",
     "collapsed": false,
     "input": [
      "b"
     ],
     "language": "python",
     "metadata": {},
     "outputs": [
      {
       "metadata": {},
       "output_type": "pyout",
       "prompt_number": 16,
       "text": [
        "'M-V--KQIESKT-A-F--QEA-LD-----AAGDKLVVVDF-SATWCGPCKMIKP-FFHSLS-EKYS-NVIFLEVDVDDCQDVASE-CEVKCMPTF-QFFKKG-QKVGE-FSGAN-KEKLE-ATI--NELV'"
       ]
      }
     ],
     "prompt_number": 16
    }
   ],
   "metadata": {}
  }
 ]
}