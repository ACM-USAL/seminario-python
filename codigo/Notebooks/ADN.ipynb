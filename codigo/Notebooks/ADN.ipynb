{
 "metadata": {
  "name": "",
  "signature": "sha256:31e712bdb22351bcb6006ee698693162c9cdea0965269e1010dc376117e68a57"
 },
 "nbformat": 3,
 "nbformat_minor": 0,
 "worksheets": [
  {
   "cells": [
    {
     "cell_type": "heading",
     "level": 1,
     "metadata": {},
     "source": [
      "ADN"
     ]
    },
    {
     "cell_type": "heading",
     "level": 2,
     "metadata": {},
     "source": [
      "Cadena inversa"
     ]
    },
    {
     "cell_type": "markdown",
     "metadata": {},
     "source": [
      "<h3 style='margin-left:20px; color:rgb(20,100,230);'>Primer programa</h3>"
     ]
    },
    {
     "cell_type": "code",
     "collapsed": false,
     "input": [
      "cadena = 'ACGCGTACTAATCGTACTGACT'\n",
      "inversa = cadena[::-1]\n",
      "print inversa"
     ],
     "language": "python",
     "metadata": {},
     "outputs": [
      {
       "output_type": "stream",
       "stream": "stdout",
       "text": [
        "TCAGTCATGCTAATCATGCGCA\n"
       ]
      }
     ],
     "prompt_number": 1
    },
    {
     "cell_type": "markdown",
     "metadata": {},
     "source": [
      "<h3 style='margin-left:20px; color:rgb(20,100,230);'>1\u00aa mejora: Entrada de datos</h3>"
     ]
    },
    {
     "cell_type": "code",
     "collapsed": false,
     "input": [
      "cadena = raw_input()\n",
      "inversa = cadena[::-1]\n",
      "print inversa"
     ],
     "language": "python",
     "metadata": {},
     "outputs": []
    },
    {
     "cell_type": "markdown",
     "metadata": {},
     "source": [
      "<h3 style='margin-left:20px; color:rgb(20,100,230);'>2\u00aa mejora: Comunicaci\u00f3n con el usuario</h3>"
     ]
    },
    {
     "cell_type": "code",
     "collapsed": false,
     "input": [
      "cadena = raw_input('Escriba una cadena de ADN: ')\n",
      "inversa = cadena[::-1]\n",
      "print 'La inversa es: %s'%inversa"
     ],
     "language": "python",
     "metadata": {},
     "outputs": []
    },
    {
     "cell_type": "markdown",
     "metadata": {},
     "source": [
      "<h3 style='margin-left:20px; color:rgb(20,100,230);'>3\u00aa mejora: Evitar errores</h3>"
     ]
    },
    {
     "cell_type": "code",
     "collapsed": false,
     "input": [
      "cadena = raw_input('Escriba una cadena de ADN: ')\n",
      "cadena = cadena.upper()\n",
      "for i in cadena:\n",
      "    if i not in ['A','T','C','G']:\n",
      "        print 'DNAException: Nucleotide not A, T, C or G'\n",
      "        break\n",
      "else:\n",
      "    inversa = cadena[::-1]\n",
      "    print 'La inversa es: %s'%inversa"
     ],
     "language": "python",
     "metadata": {},
     "outputs": [
      {
       "name": "stdout",
       "output_type": "stream",
       "stream": "stdout",
       "text": [
        "Escriba una cadena de ADN: gtcagttagtgcat\n"
       ]
      },
      {
       "output_type": "stream",
       "stream": "stdout",
       "text": [
        "TACGTGATTGACTG\n"
       ]
      }
     ]
    },
    {
     "cell_type": "heading",
     "level": 2,
     "metadata": {},
     "source": [
      "Cadena complementaria"
     ]
    },
    {
     "cell_type": "markdown",
     "metadata": {},
     "source": [
      "<h3 style='margin-left:20px; color:rgb(20,100,230);'>Primer programa</h3>"
     ]
    },
    {
     "cell_type": "code",
     "collapsed": false,
     "input": [
      "cadena = raw_input('Escriba una cadena de ADN: ')\n",
      "cadena = cadena.upper()\n",
      "complementaria = ''\n",
      "for nuc in cadena:\n",
      "    if nuc == 'A': complementaria += 'T'\n",
      "    if nuc == 'T': complementaria += 'A'\n",
      "    if nuc == 'C': complementaria += 'G'\n",
      "    if nuc == 'G': complementaria += 'C'\n",
      "print complementaria"
     ],
     "language": "python",
     "metadata": {},
     "outputs": [
      {
       "name": "stdout",
       "output_type": "stream",
       "stream": "stdout",
       "text": [
        "Escriba una cadena de ADN: CAGCTACGTA\n"
       ]
      },
      {
       "output_type": "stream",
       "stream": "stdout",
       "text": [
        "GTCGATGCAT\n"
       ]
      }
     ],
     "prompt_number": 4
    },
    {
     "cell_type": "markdown",
     "metadata": {},
     "source": [
      "<h3 style='margin-left:20px; color:rgb(20,100,230);'>1\u00aa mejora: </h3>"
     ]
    },
    {
     "cell_type": "code",
     "collapsed": false,
     "input": [],
     "language": "python",
     "metadata": {},
     "outputs": []
    }
   ],
   "metadata": {}
  }
 ]
}